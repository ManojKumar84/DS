{
  "nbformat": 4,
  "nbformat_minor": 0,
  "metadata": {
    "colab": {
      "name": "what-if-tool-challenge.ipynb",
      "provenance": [],
      "collapsed_sections": [],
      "machine_shape": "hm"
    },
    "environment": {
      "name": "tf2-2-3-gpu.2-3.m55",
      "type": "gcloud",
      "uri": "gcr.io/deeplearning-platform-release/tf2-2-3-gpu.2-3:m55"
    },
    "kernelspec": {
      "display_name": "Python 3",
      "language": "python",
      "name": "python3"
    },
    "language_info": {
      "codemirror_mode": {
        "name": "ipython",
        "version": 3
      },
      "file_extension": ".py",
      "mimetype": "text/x-python",
      "name": "python",
      "nbconvert_exporter": "python",
      "pygments_lexer": "ipython3",
      "version": "3.7.8"
    }
  },
  "cells": [
    {
      "cell_type": "markdown",
      "metadata": {
        "id": "bTry4ZMD2859"
      },
      "source": [
        "# What-If Tool Challenge Lab\n",
        "\n",
        "In this notebook, you will use mortgage data from NY in 2017 to create two binary classifiers to determine if a mortgage applicant will be granted a loan.\n",
        "\n",
        "You will train classifiers on two datasets. One will be trained on the complete dataset, and the other will be trained on a subset of the dataset, where 90% of the female applicants that were granted a loan were removed from the training data (so the dataset has 90% less females that were granted loans).\n",
        "\n",
        "You will then compare and examine the two models using the What-If Tool.\n",
        "\n",
        "In this notebook, you will be exepcted to:\n",
        "* Understand how the data is processed \n",
        "* Write TensorFlow code to build and train two models\n",
        "* Write code to deploy the the models to AI Platform\n",
        "* Examine the models in the What-If Tool"
      ]
    },
    {
      "cell_type": "markdown",
      "metadata": {
        "id": "zU9bzX-VWQCb"
      },
      "source": [
        "# Download and import the data\n",
        "\n",
        "Here, you'll import some modules and download some data from the Consumer Finance public [datasets](https://www.consumerfinance.gov/data-research/hmda/historic-data/?geo=ny&records=all-records&field_descriptions=labels)."
      ]
    },
    {
      "cell_type": "code",
      "metadata": {
        "id": "nhmYvLmUxSqU"
      },
      "source": [
        "import pandas as pd\n",
        "import numpy as np\n",
        "import collections\n",
        "from sklearn import preprocessing\n",
        "from sklearn.model_selection import train_test_split\n",
        "from sklearn.metrics import accuracy_score, confusion_matrix\n",
        "from sklearn.utils import shuffle\n",
        "from witwidget.notebook.visualization import WitWidget, WitConfigBuilder"
      ],
      "execution_count": null,
      "outputs": []
    },
    {
      "cell_type": "code",
      "metadata": {
        "id": "oVhFQBvggsio",
        "outputId": "5ad36473-8cd2-4e44-af7d-bbf577088b08"
      },
      "source": [
        "!wget https://files.consumerfinance.gov/hmda-historic-loan-data/hmda_2017_ny_all-records_labels.zip\n",
        "!unzip hmda_2017_ny_all-records_labels.zip"
      ],
      "execution_count": null,
      "outputs": [
        {
          "output_type": "stream",
          "text": [
            "--2020-09-13 04:39:03--  https://files.consumerfinance.gov/hmda-historic-loan-data/hmda_2017_ny_all-records_labels.zip\n",
            "Resolving files.consumerfinance.gov (files.consumerfinance.gov)... 13.224.11.76, 13.224.11.92, 13.224.11.24, ...\n",
            "Connecting to files.consumerfinance.gov (files.consumerfinance.gov)|13.224.11.76|:443... connected.\n",
            "HTTP request sent, awaiting response... 200 OK\n",
            "Length: 17466285 (17M) [application/zip]\n",
            "Saving to: ‘hmda_2017_ny_all-records_labels.zip’\n",
            "\n",
            "hmda_2017_ny_all-re 100%[===================>]  16.66M  14.4MB/s    in 1.2s    \n",
            "\n",
            "2020-09-13 04:39:05 (14.4 MB/s) - ‘hmda_2017_ny_all-records_labels.zip’ saved [17466285/17466285]\n",
            "\n",
            "Archive:  hmda_2017_ny_all-records_labels.zip\n",
            "  inflating: hmda_2017_ny_all-records_labels.csv  \n"
          ],
          "name": "stdout"
        }
      ]
    },
    {
      "cell_type": "markdown",
      "metadata": {
        "id": "uFyKHeHZD1e6"
      },
      "source": [
        "# Process the Data\n",
        "\n",
        "In this section, you **don't need to write any code**. We suggest you read through the cells to understand how the dataset is processed.\n",
        "\n",
        "Here, we start by importing the dataset into a Pandas dataframe. Then we process the data to exclude incomplete information and make a simple binary classification of loan approvals. We then create two datasets, one complete and one where 90% of female applicants are removed."
      ]
    },
    {
      "cell_type": "code",
      "metadata": {
        "id": "LSsrdPdyCVYn"
      },
      "source": [
        "# Set column dtypes for Pandas\n",
        "column_names = collections.OrderedDict({\n",
        "  'as_of_year': np.int16,\n",
        "  'agency_abbr': 'category',\n",
        "  'loan_type': 'category',\n",
        "  'property_type': 'category',\n",
        "  'loan_purpose': 'category',\n",
        "  'owner_occupancy': np.int8,\n",
        "  'loan_amt_000s': np.float64,\n",
        "  'preapproval': 'category',\n",
        "  'county_code': np.float64,\n",
        "  'applicant_income_00s': np.float64,\n",
        "  'purchaser_type': 'category',\n",
        "  'hoepa_status': 'category',\n",
        "  'lien_status': 'category',\n",
        "  'population': np.float64,\n",
        "  'ffiec_median_fam_income': np.float64,\n",
        "  'tract_to_msamd_income': np.float64,\n",
        "  'num_of_owner_occupied_units': np.float64,\n",
        "  'number_of_1_to_4_family_units': np.float64,\n",
        "  'approved': np.int8, \n",
        "  'applicant_race_name_3': 'category',\n",
        "  'applicant_race_name_4': 'category',\n",
        "  'applicant_race_name_5': 'category',\n",
        "  'co_applicant_race_name_3': 'category',\n",
        "  'co_applicant_race_name_4': 'category',\n",
        "  'co_applicant_race_name_5': 'category'\n",
        "})\n",
        "\n",
        "# Import the CSV into a dataframe\n",
        "data = pd.read_csv('hmda_2017_ny_all-records_labels.csv', dtype=column_names)\n",
        "data = shuffle(data, random_state=2)"
      ],
      "execution_count": null,
      "outputs": []
    },
    {
      "cell_type": "markdown",
      "metadata": {
        "id": "5fMc5a2eY3Kh"
      },
      "source": [
        "## Extract columns and create dummy dataframes\n",
        "\n",
        "We first specify which columns to keep then drop the columns that don't have `loan originated` or `loan denied`, to make this a simple binary classification.\n",
        "\n",
        "We then create two dataframes `binary_df` and `bad_binary_df`. The first will include all the data, and the second will have 90% of female applicants removed, respectively. We then convert them into \"dummy\" dataframes to turn categorical string features into simple 0/1 features and normalize all the columns."
      ]
    },
    {
      "cell_type": "code",
      "metadata": {
        "id": "qWNJwq2-Htxz"
      },
      "source": [
        "# Only use a subset of the columns for these models\n",
        "text_columns_to_keep = [\n",
        "             'agency_name',\n",
        "             'loan_type_name',\n",
        "             'property_type_name',\n",
        "             'loan_purpose_name',\n",
        "             'owner_occupancy_name',\n",
        "             'applicant_ethnicity_name',\n",
        "             'applicant_race_name_1',\n",
        "             'applicant_sex_name',                      \n",
        "]\n",
        "numeric_columns_to_keep = [\n",
        "             'loan_amount_000s',\n",
        "             'applicant_income_000s',\n",
        "             'population',\n",
        "             'minority_population',\n",
        "             'hud_median_family_income' \n",
        "]\n",
        "\n",
        "columns_to_keep = text_columns_to_keep + numeric_columns_to_keep + ['action_taken_name']\n",
        "\n",
        "# Drop columns with incomplete information and drop columns that don't have loan orignated or denied, to make this a simple binary classification\n",
        "df = data[columns_to_keep].dropna()\n",
        "binary_df = df[df.action_taken_name.isin(['Loan originated', 'Application denied by financial institution'])].copy()\n",
        "binary_df.loc[:,'loan_granted'] = np.where(binary_df['action_taken_name'] == 'Loan originated', 1, 0)\n",
        "binary_df = binary_df.drop(columns=['action_taken_name'])\n",
        "\n",
        "# Drop 90% of loaned female applicants for a \"bad training data\" version\n",
        "loaned_females = (binary_df['applicant_sex_name'] == 'Female') & (binary_df['loan_granted'] == 1)\n",
        "bad_binary_df = binary_df.drop(binary_df[loaned_females].sample(frac=.9).index)"
      ],
      "execution_count": null,
      "outputs": []
    },
    {
      "cell_type": "code",
      "metadata": {
        "id": "ic6mWTvENrLd",
        "outputId": "7d5ee79a-f021-4555-e5fe-fed8e86e81ad"
      },
      "source": [
        "# Now lets' see the distribution of approved / denied classes (0: denied, 1: approved)\n",
        "print(binary_df['loan_granted'].value_counts())"
      ],
      "execution_count": null,
      "outputs": [
        {
          "output_type": "stream",
          "text": [
            "1    223026\n",
            "0     63001\n",
            "Name: loan_granted, dtype: int64\n"
          ],
          "name": "stdout"
        }
      ]
    },
    {
      "cell_type": "code",
      "metadata": {
        "id": "6h3kQmIqMLYr"
      },
      "source": [
        "# Turn categorical string features into simple 0/1 features (like turning \"sex\" into \"sex_male\" and \"sex_female\")\n",
        "dummies_df = pd.get_dummies(binary_df, columns=text_columns_to_keep)\n",
        "dummies_df = dummies_df.sample(frac=1).reset_index(drop=True)\n",
        "\n",
        "bad_dummies_df = pd.get_dummies(bad_binary_df, columns=text_columns_to_keep)\n",
        "bad_dummies_df = bad_dummies_df.sample(frac=1).reset_index(drop=True)"
      ],
      "execution_count": null,
      "outputs": []
    },
    {
      "cell_type": "code",
      "metadata": {
        "id": "3VfdY4PzWOoI"
      },
      "source": [
        "# Normalize the numeric columns so that they all have the same scale to simplify modeling/training\n",
        "def normalize():\n",
        "  min_max_scaler = preprocessing.MinMaxScaler()\n",
        "  column_names_to_normalize = ['loan_amount_000s', 'applicant_income_000s', 'minority_population', 'hud_median_family_income', 'population']\n",
        "  x = dummies_df[column_names_to_normalize].values\n",
        "  x_scaled = min_max_scaler.fit_transform(x)\n",
        "  df_temp = pd.DataFrame(x_scaled, columns=column_names_to_normalize, index = dummies_df.index)\n",
        "  dummies_df[column_names_to_normalize] = df_temp\n",
        "\n",
        "  x = bad_dummies_df[column_names_to_normalize].values\n",
        "  x_scaled = min_max_scaler.fit_transform(x)\n",
        "  bad_df_temp = pd.DataFrame(x_scaled, columns=column_names_to_normalize, index = bad_dummies_df.index)\n",
        "  bad_dummies_df[column_names_to_normalize] = bad_df_temp\n",
        "\n",
        "normalize()"
      ],
      "execution_count": null,
      "outputs": []
    },
    {
      "cell_type": "markdown",
      "metadata": {
        "id": "m20NBqsMaMkx"
      },
      "source": [
        "## Get the Train & Test Data\n",
        "\n",
        "Now, let's get the train and test data for our models.\n",
        "\n",
        "For the **first** model, you'll use `train_data` and `train_labels`.\n",
        "\n",
        "For the **second** model, you'll use `limited_train_data` and `limited_train_labels`."
      ]
    },
    {
      "cell_type": "code",
      "metadata": {
        "id": "Np8JM4KINnKC"
      },
      "source": [
        "# Get the training data & labels\n",
        "test_data_with_labels = dummies_df\n",
        "\n",
        "train_data = dummies_df\n",
        "train_labels = train_data['loan_granted']\n",
        "train_data = train_data.drop(columns=['loan_granted'])\n",
        "\n",
        "# Get the bad (limited) training data and labels\n",
        "limited_train_data = bad_dummies_df\n",
        "limited_train_labels = limited_train_data['loan_granted']\n",
        "limited_train_data = bad_dummies_df.drop(columns=['loan_granted'])\n",
        "\n",
        "# Split the data into train / test sets for Model 1\n",
        "x,y = train_data,train_labels\n",
        "train_data,test_data,train_labels,test_labels = train_test_split(x,y)\n",
        "\n",
        "# Split the bad data into train / test sets for Model 2\n",
        "lim_x,lim_y=limited_train_data,limited_train_labels\n",
        "limited_train_data,limited_test_data,limited_train_labels,limited_test_labels = train_test_split(lim_x,lim_y)"
      ],
      "execution_count": null,
      "outputs": []
    },
    {
      "cell_type": "markdown",
      "metadata": {
        "id": "MyUxXszu0Mp0"
      },
      "source": [
        "# Create and train your TensorFlow models\n",
        "\n",
        "In this section, you will write code to train two TensorFlow Keras models."
      ]
    },
    {
      "cell_type": "markdown",
      "metadata": {
        "id": "K685pKOMUPQD"
      },
      "source": [
        "## Train your first model on the complete dataset.\n",
        "\n",
        "* **Important**: your first model should be named **model**.\n",
        "* The data will come from `train_data` and `train_labels`.\n",
        "\n",
        "If you get stuck, you can view the documentation [here](https://www.tensorflow.org/api_docs/python/tf/keras/Sequential)."
      ]
    },
    {
      "cell_type": "code",
      "metadata": {
        "id": "PvgHgZ-agsi_"
      },
      "source": [
        "# import TF modules\n",
        "from tensorflow.keras import layers\n",
        "from tensorflow.keras import initializers\n",
        "from tensorflow.keras import optimizers\n",
        "from tensorflow.keras.models import Sequential\n",
        "from tensorflow.keras.layers import Dense"
      ],
      "execution_count": null,
      "outputs": []
    },
    {
      "cell_type": "code",
      "metadata": {
        "id": "l4qrBBr5bUSK",
        "outputId": "ce47ccee-64c4-40f3-9bd4-6c8372bc3b61"
      },
      "source": [
        "# This is the size of the array you'll be feeding into our model for each example\n",
        "input_size = len(train_data.iloc[0])\n",
        "\n",
        "# Train the first model on the complete dataset. Use `train_data` for your data and `train_labels` for you labels.\n",
        "\n",
        "# ---- TODO ---------\n",
        "# create the model = Sequential()\n",
        "# model.add (your layers)\n",
        "# model.compile\n",
        "# model.fit\n",
        "\n",
        "# Important: your first model should be named model\n",
        "model = Sequential() \n",
        "model.add(layers.Dense(200, input_shape=(input_size,), activation='relu'))\n",
        "model.add(layers.Dense(50, activation='relu'))\n",
        "model.add(layers.Dense(20, activation='relu'))\n",
        "model.add(layers.Dense(1, activation='sigmoid'))\n",
        "# The data will come from train_data and train_labels.\n",
        "model.compile(loss='mean_squared_error', optimizer='adam', metrics=['accuracy'])\n",
        "model.fit(train_data, train_labels, epochs=10, batch_size=2048, validation_split=0.1)"
      ],
      "execution_count": null,
      "outputs": [
        {
          "output_type": "stream",
          "text": [
            "Epoch 1/10\n",
            "95/95 [==============================] - 4s 44ms/step - loss: 0.1629 - accuracy: 0.7821 - val_loss: 0.1539 - val_accuracy: 0.7841\n",
            "Epoch 2/10\n",
            "95/95 [==============================] - 4s 39ms/step - loss: 0.1517 - accuracy: 0.7895 - val_loss: 0.1524 - val_accuracy: 0.7893\n",
            "Epoch 3/10\n",
            "95/95 [==============================] - 2s 25ms/step - loss: 0.1507 - accuracy: 0.7920 - val_loss: 0.1516 - val_accuracy: 0.7904\n",
            "Epoch 4/10\n",
            "95/95 [==============================] - 4s 39ms/step - loss: 0.1502 - accuracy: 0.7927 - val_loss: 0.1513 - val_accuracy: 0.7910\n",
            "Epoch 5/10\n",
            "95/95 [==============================] - 5s 49ms/step - loss: 0.1500 - accuracy: 0.7926 - val_loss: 0.1513 - val_accuracy: 0.7907\n",
            "Epoch 6/10\n",
            "95/95 [==============================] - 4s 45ms/step - loss: 0.1499 - accuracy: 0.7928 - val_loss: 0.1507 - val_accuracy: 0.7906\n",
            "Epoch 7/10\n",
            "95/95 [==============================] - 4s 43ms/step - loss: 0.1497 - accuracy: 0.7931 - val_loss: 0.1508 - val_accuracy: 0.7908\n",
            "Epoch 8/10\n",
            "95/95 [==============================] - 5s 48ms/step - loss: 0.1495 - accuracy: 0.7937 - val_loss: 0.1506 - val_accuracy: 0.7911\n",
            "Epoch 9/10\n",
            "95/95 [==============================] - 3s 35ms/step - loss: 0.1494 - accuracy: 0.7938 - val_loss: 0.1507 - val_accuracy: 0.7906\n",
            "Epoch 10/10\n",
            "95/95 [==============================] - 4s 44ms/step - loss: 0.1493 - accuracy: 0.7939 - val_loss: 0.1506 - val_accuracy: 0.7907\n"
          ],
          "name": "stdout"
        },
        {
          "output_type": "execute_result",
          "data": {
            "text/plain": [
              "<tensorflow.python.keras.callbacks.History at 0x7fc80088dd90>"
            ]
          },
          "metadata": {
            "tags": []
          },
          "execution_count": 10
        }
      ]
    },
    {
      "cell_type": "code",
      "metadata": {
        "id": "CWGEGaxPgsjD",
        "outputId": "4ec39352-c4c5-443d-9cf1-a95f9ba4c940"
      },
      "source": [
        "# Save your model\n",
        "!mkdir -p saved_model\n",
        "model.save('saved_model/my_model') "
      ],
      "execution_count": null,
      "outputs": [
        {
          "output_type": "stream",
          "text": [
            "WARNING:tensorflow:From /opt/conda/lib/python3.7/site-packages/tensorflow/python/training/tracking/tracking.py:111: Model.state_updates (from tensorflow.python.keras.engine.training) is deprecated and will be removed in a future version.\n",
            "Instructions for updating:\n",
            "This property should not be used in TensorFlow 2.0, as updates are applied automatically.\n",
            "WARNING:tensorflow:From /opt/conda/lib/python3.7/site-packages/tensorflow/python/training/tracking/tracking.py:111: Layer.updates (from tensorflow.python.keras.engine.base_layer) is deprecated and will be removed in a future version.\n",
            "Instructions for updating:\n",
            "This property should not be used in TensorFlow 2.0, as updates are applied automatically.\n",
            "INFO:tensorflow:Assets written to: saved_model/my_model/assets\n"
          ],
          "name": "stdout"
        }
      ]
    },
    {
      "cell_type": "code",
      "metadata": {
        "id": "hg0bnNVwgsjF",
        "outputId": "8ee24866-7e4a-4943-cee9-b821db5b02a5"
      },
      "source": [
        "# Get predictions on the test set and print the accuracy score (Model 1)\n",
        "y_pred = model.predict(test_data)\n",
        "acc = accuracy_score(test_labels, y_pred.round())\n",
        "print(\"Model 1 Accuracy: %.2f%%\" % (acc * 100.0))"
      ],
      "execution_count": null,
      "outputs": [
        {
          "output_type": "stream",
          "text": [
            "Model 1 Accuracy: 79.42%\n"
          ],
          "name": "stdout"
        }
      ]
    },
    {
      "cell_type": "markdown",
      "metadata": {
        "id": "U2hPhuA-UXTT"
      },
      "source": [
        "## Train your second model on the limited datset.\n",
        "\n",
        "* **Important**: your second model should be named **limited_model**.\n",
        "* The data will come from `limited_train_data` and `limited_train_labels`.\n",
        "\n",
        "\n",
        "If you get stuck, you can view the documentation [here](https://www.tensorflow.org/api_docs/python/tf/keras/Sequential)."
      ]
    },
    {
      "cell_type": "code",
      "metadata": {
        "id": "NP8cr7JvgsjH",
        "outputId": "b4326cac-5e1d-46d5-d44c-13d079b2fc8e"
      },
      "source": [
        "# Train your second model on the limited dataset. Use `limited_train_data` for your data and `limited_train_labels` for your labels.\n",
        "# Use the same input_size for the limited_model\n",
        "\n",
        "# ---- TODO ---------\n",
        "# create the limited_model = Sequential()\n",
        "# limited_model.add (your layers)\n",
        "# limited_model.compile\n",
        "# limited_model.fit\n",
        "\n",
        "# Important: your second model should be named limited_model.\n",
        "limited_model = Sequential()\n",
        "limited_model.add(layers.Dense(200, input_shape=(input_size,), activation='relu'))\n",
        "limited_model.add(layers.Dense(50, activation='relu'))\n",
        "limited_model.add(layers.Dense(20, activation='relu'))\n",
        "limited_model.add(layers.Dense(1, activation='sigmoid'))\n",
        "limited_model.compile(loss='mean_squared_error', optimizer='adam', metrics=['accuracy'])\n",
        "# The data will come from limited_train_data and limited_train_labels.\n",
        "limited_model.fit(limited_train_data, limited_train_labels, epochs=10, batch_size=2048, validation_split=0.1)"
      ],
      "execution_count": null,
      "outputs": [
        {
          "output_type": "stream",
          "text": [
            "Epoch 1/10\n",
            "74/74 [==============================] - 4s 47ms/step - loss: 0.1695 - accuracy: 0.7611 - val_loss: 0.1529 - val_accuracy: 0.7856\n",
            "Epoch 2/10\n",
            "74/74 [==============================] - 3s 39ms/step - loss: 0.1538 - accuracy: 0.7836 - val_loss: 0.1518 - val_accuracy: 0.7879\n",
            "Epoch 3/10\n",
            "74/74 [==============================] - 3s 34ms/step - loss: 0.1529 - accuracy: 0.7870 - val_loss: 0.1514 - val_accuracy: 0.7892\n",
            "Epoch 4/10\n",
            "74/74 [==============================] - 2s 33ms/step - loss: 0.1523 - accuracy: 0.7878 - val_loss: 0.1514 - val_accuracy: 0.7885\n",
            "Epoch 5/10\n",
            "74/74 [==============================] - 3s 37ms/step - loss: 0.1521 - accuracy: 0.7884 - val_loss: 0.1514 - val_accuracy: 0.7886\n",
            "Epoch 6/10\n",
            "74/74 [==============================] - 3s 39ms/step - loss: 0.1519 - accuracy: 0.7887 - val_loss: 0.1513 - val_accuracy: 0.7889\n",
            "Epoch 7/10\n",
            "74/74 [==============================] - 3s 44ms/step - loss: 0.1517 - accuracy: 0.7887 - val_loss: 0.1519 - val_accuracy: 0.7877\n",
            "Epoch 8/10\n",
            "74/74 [==============================] - 3s 39ms/step - loss: 0.1516 - accuracy: 0.7886 - val_loss: 0.1509 - val_accuracy: 0.7897\n",
            "Epoch 9/10\n",
            "74/74 [==============================] - 3s 44ms/step - loss: 0.1516 - accuracy: 0.7888 - val_loss: 0.1510 - val_accuracy: 0.7885\n",
            "Epoch 10/10\n",
            "74/74 [==============================] - 3s 41ms/step - loss: 0.1514 - accuracy: 0.7891 - val_loss: 0.1510 - val_accuracy: 0.7886\n"
          ],
          "name": "stdout"
        },
        {
          "output_type": "execute_result",
          "data": {
            "text/plain": [
              "<tensorflow.python.keras.callbacks.History at 0x7fc7cc3e4110>"
            ]
          },
          "metadata": {
            "tags": []
          },
          "execution_count": 13
        }
      ]
    },
    {
      "cell_type": "code",
      "metadata": {
        "id": "5UauXNlMgsjK",
        "outputId": "a55a47f3-6fd4-43ff-c43f-c51fdca7a162"
      },
      "source": [
        "# Save your model\n",
        "!mkdir -p saved_limited_model\n",
        "limited_model.save('saved_limited_model/my_limited_model') "
      ],
      "execution_count": null,
      "outputs": [
        {
          "output_type": "stream",
          "text": [
            "INFO:tensorflow:Assets written to: saved_limited_model/my_limited_model/assets\n"
          ],
          "name": "stdout"
        }
      ]
    },
    {
      "cell_type": "code",
      "metadata": {
        "id": "n0UxiCcygsjM",
        "outputId": "687ba2e7-de4e-4e3d-9634-92f5c134fa89"
      },
      "source": [
        "# Get predictions on the test set and print the accuracy score (Model 2)\n",
        "limited_y_pred = limited_model.predict(limited_test_data)\n",
        "acc = accuracy_score(limited_test_labels, limited_y_pred.round())\n",
        "print(\"Model 2 Accuracy: %.2f%%\" % (acc * 100.0))"
      ],
      "execution_count": null,
      "outputs": [
        {
          "output_type": "stream",
          "text": [
            "Model 2 Accuracy: 79.00%\n"
          ],
          "name": "stdout"
        }
      ]
    },
    {
      "cell_type": "markdown",
      "metadata": {
        "id": "-5X33HRf0b2C"
      },
      "source": [
        "# Deploy your models to the AI Platform\n",
        "\n",
        "In this section, you will first need to create a Cloud Storage bucket to store your models, then you will use gcloud commands to copy them over.\n",
        "\n",
        "You will then create two AI Platform model resources and their associated versions."
      ]
    },
    {
      "cell_type": "code",
      "metadata": {
        "id": "Jfp8H0esC6k_"
      },
      "source": [
        "# ---- TODO ---------\n",
        "\n",
        "# Fill out this information:\n",
        "\n",
        "GCP_PROJECT = 'qwiklabs-gcp-01-e1542ddae711' # change with your project id\n",
        "MODEL_BUCKET = 'gs://qwiklabs-gcp-01-e1542ddae711' # change with gs://<your project id>\n",
        "MODEL_NAME = 'complete_model' #do not modify \n",
        "LIM_MODEL_NAME = 'limited_model' #do not modify\n",
        "VERSION_NAME = 'v1'\n",
        "REGION = 'us-central1'"
      ],
      "execution_count": null,
      "outputs": []
    },
    {
      "cell_type": "code",
      "metadata": {
        "id": "NJOTCAsLDjcF",
        "outputId": "bf788236-1024-4d2c-a65b-3cd9c8e562c5"
      },
      "source": [
        "# Copy your model files to Cloud Storage (these file paths are your 'origin' for the AI Platform Model)\n",
        "!gsutil cp -r ./saved_model $MODEL_BUCKET\n",
        "!gsutil cp -r ./saved_limited_model $MODEL_BUCKET"
      ],
      "execution_count": null,
      "outputs": [
        {
          "output_type": "stream",
          "text": [
            "Copying file://./saved_model/my_model/saved_model.pb [Content-Type=application/octet-stream]...\n",
            "Copying file://./saved_model/my_model/variables/variables.index [Content-Type=application/octet-stream]...\n",
            "Copying file://./saved_model/my_model/variables/variables.data-00000-of-00001 [Content-Type=application/octet-stream]...\n",
            "- [3 files][332.2 KiB/332.2 KiB]                                                \n",
            "Operation completed over 3 objects/332.2 KiB.                                    \n",
            "Copying file://./saved_limited_model/my_limited_model/saved_model.pb [Content-Type=application/octet-stream]...\n",
            "Copying file://./saved_limited_model/my_limited_model/variables/variables.index [Content-Type=application/octet-stream]...\n",
            "Copying file://./saved_limited_model/my_limited_model/variables/variables.data-00000-of-00001 [Content-Type=application/octet-stream]...\n",
            "- [3 files][332.9 KiB/332.9 KiB]                                                \n",
            "Operation completed over 3 objects/332.9 KiB.                                    \n"
          ],
          "name": "stdout"
        }
      ]
    },
    {
      "cell_type": "code",
      "metadata": {
        "id": "dbGP-3qIDoza",
        "outputId": "67f1ecaf-d020-4bf1-de21-2726d02921c2"
      },
      "source": [
        "# Configure gcloud to use your project\n",
        "!gcloud config set project $GCP_PROJECT"
      ],
      "execution_count": null,
      "outputs": [
        {
          "output_type": "stream",
          "text": [
            "Updated property [core/project].\n"
          ],
          "name": "stdout"
        }
      ]
    },
    {
      "cell_type": "markdown",
      "metadata": {
        "id": "V1RF5Ga_HAva"
      },
      "source": [
        "## Create your first AI Platform model: **complete_model**\n",
        "\n",
        "Here's what you will need to create your AI Platform model:\n",
        "\n",
        "* Version (`VERSION_NAME`)\n",
        "* Model (`MODEL_NAME`=`complete_model`)\n",
        "* Framework (`TensorFlow`)\n",
        "* Runtime version (`2.1`)\n",
        "* Origin (directory path to your model in the Cloud Storage bucket)\n",
        "* Staging-bucket (`MODEL_BUCKET`)\n",
        "* Python version (`3.7`)\n"
      ]
    },
    {
      "cell_type": "markdown",
      "metadata": {
        "id": "LGtP39EAgd9N"
      },
      "source": [
        "1. You will first need to create a model resource with the name `$MODEL_NAME` and region `$REGION`.\n",
        "\n",
        "2. Then you will create a version for your model with the information specified above.\n",
        "\n",
        "Be sure to name your first model **complete_model**.\n",
        "\n",
        "If you get stuck, you can always find the documentation for this [here](https://cloud.google.com/ai-platform/prediction/docs/deploying-models#gcloud).\n",
        "\n",
        "To use bash in the code cells, you can put a `!` before the command (as seen in cells above) and use a `$` in front of your environment variables."
      ]
    },
    {
      "cell_type": "code",
      "metadata": {
        "id": "BSfwEaE8DpOP",
        "outputId": "3ceb1d0a-6134-4d50-fc00-d0a05b795d10"
      },
      "source": [
        "# 1. Create an AI Platform model resource for your COMPLETE model\n",
        "\n",
        "# ---- TODO ---------\n",
        "!gcloud ai-platform models create $MODEL_NAME --regions $REGION"
      ],
      "execution_count": null,
      "outputs": [
        {
          "output_type": "stream",
          "text": [
            "Using endpoint [https://ml.googleapis.com/]\n",
            "Created ml engine model [projects/qwiklabs-gcp-01-e1542ddae711/models/complete_model].\n"
          ],
          "name": "stdout"
        }
      ]
    },
    {
      "cell_type": "code",
      "metadata": {
        "id": "QN6oEh1TX0Bf",
        "outputId": "c6a576e5-9362-43be-b761-ed37277c0ad4"
      },
      "source": [
        "# 2. Now create a version. This will take a couple of minutes to deploy.\n",
        "\n",
        "# ---- TODO ------\n",
        "!gcloud ai-platform versions create $VERSION_NAME \\\n",
        "--model=$MODEL_NAME \\\n",
        "--framework='Tensorflow' \\\n",
        "--runtime-version=2.1 \\\n",
        "--origin=$MODEL_BUCKET/saved_model/my_model \\\n",
        "--staging-bucket=$MODEL_BUCKET \\\n",
        "--python-version=3.7"
      ],
      "execution_count": null,
      "outputs": [
        {
          "output_type": "stream",
          "text": [
            "Using endpoint [https://ml.googleapis.com/]\n",
            "Creating version (this might take a few minutes)......done.                    \n"
          ],
          "name": "stdout"
        }
      ]
    },
    {
      "cell_type": "markdown",
      "metadata": {
        "id": "TNCuzUbsKuUv"
      },
      "source": [
        "## Create your second AI Platform model: **limited_model**\n",
        "\n",
        "Here's what you will need to create your AI Platform model:\n",
        "\n",
        "* Version (`VERSION_NAME`)\n",
        "* Model (`LIM_MODEL_NAME`)\n",
        "* Framework (`TensorFlow`)\n",
        "* Runtime version (`2.1`)\n",
        "* Origin (directory path to your second model in the Cloud Storage bucket)\n",
        "* Staging-bucket (`MODEL_BUCKET`)\n",
        "* Python version (`3.7`)"
      ]
    },
    {
      "cell_type": "markdown",
      "metadata": {
        "id": "kHCNMxEtgVII"
      },
      "source": [
        "1. You will first need to create a model resource with the name `$LIM_MODEL_NAME` and region `$REGION`.\n",
        "\n",
        "2. Then you will create a version for your model with the information specified above.\n",
        "\n",
        "Be sure to name your second model **limited_model**.\n",
        "\n",
        "If you get stuck, you can always find the documentation for this [here](https://cloud.google.com/ai-platform/prediction/docs/deploying-models#gcloud_1).\n",
        "\n",
        "To use bash in the code cells, you can put a `!` before the command (as seen in cells above) and use a `$` in front of your environment variables. "
      ]
    },
    {
      "cell_type": "code",
      "metadata": {
        "id": "xuPue_4Mgsjd",
        "outputId": "64b62881-80d1-4418-c68b-8c8f07af2369"
      },
      "source": [
        "# 1. Create an AI Platform model resource for your LIMITED model\n",
        "\n",
        "# ---- TODO ---------\n",
        "!gcloud ai-platform models create $LIM_MODEL_NAME --regions $REGION"
      ],
      "execution_count": null,
      "outputs": [
        {
          "output_type": "stream",
          "text": [
            "Using endpoint [https://ml.googleapis.com/]\n",
            "Created ml engine model [projects/qwiklabs-gcp-01-e1542ddae711/models/limited_model].\n"
          ],
          "name": "stdout"
        }
      ]
    },
    {
      "cell_type": "code",
      "metadata": {
        "id": "IMF5kzNjYBys",
        "outputId": "5585492a-cd02-4d77-c86e-ef79e711ffad"
      },
      "source": [
        "# 2. Now create a version. This will take a couple of minutes to deploy.\n",
        "\n",
        "# ---- TODO ------\n",
        "!gcloud ai-platform versions create $VERSION_NAME \\\n",
        "--model=$LIM_MODEL_NAME \\\n",
        "--framework='Tensorflow' \\\n",
        "--runtime-version=2.1 \\\n",
        "--origin=$MODEL_BUCKET/saved_limited_model/my_limited_model \\\n",
        "--staging-bucket=$MODEL_BUCKET \\\n",
        "--python-version=3.7"
      ],
      "execution_count": null,
      "outputs": [
        {
          "output_type": "stream",
          "text": [
            "Using endpoint [https://ml.googleapis.com/]\n",
            "Creating version (this might take a few minutes)......done.                    \n"
          ],
          "name": "stdout"
        }
      ]
    },
    {
      "cell_type": "markdown",
      "metadata": {
        "id": "4IZAJ1LrqUha"
      },
      "source": [
        "# Using the What-if Tool to interpret your model\n",
        "Once your models have deployed, you're now ready to connect them to the What-if Tool using the WitWidget. \n",
        "\n",
        "We've provided the Config Builder code and a couple of functions to get the class predictions from the models, which are necessary inputs for the WIT. If you've successfully deployed and saved your models, **you won't need to modify any code in this cell**."
      ]
    },
    {
      "cell_type": "code",
      "metadata": {
        "id": "bQrAb7lbOhvI",
        "outputId": "3f1c0ecc-c054-4272-8765-422ae4ced3a0",
        "colab": {
          "referenced_widgets": [
            "de56fa62d2be45a3badba1c1920b44c2"
          ]
        }
      },
      "source": [
        "#@title Show model results in WIT\n",
        "num_datapoints = 1000  #@param {type: \"number\"}\n",
        "\n",
        "# Column indices to strip out from data from WIT before passing it to the model.\n",
        "columns_not_for_model_input = [\n",
        "    test_data_with_labels.columns.get_loc('loan_granted'),\n",
        "]\n",
        "\n",
        "# Return model predictions.\n",
        "def custom_predict(examples_to_infer):\n",
        "  # Delete columns not used by model\n",
        "  model_inputs = np.delete(\n",
        "      np.array(examples_to_infer), columns_not_for_model_input, axis=1).tolist()\n",
        "  # Get the class predictions from the model.\n",
        "  preds = model.predict(model_inputs)\n",
        "  preds = [[1 - pred[0], pred[0]] for pred in preds]\n",
        "  return preds\n",
        "  \n",
        "# Return 'limited' model predictions.\n",
        "def limited_custom_predict(examples_to_infer):\n",
        "  # Delete columns not used by model\n",
        "  model_inputs = np.delete(\n",
        "      np.array(examples_to_infer), columns_not_for_model_input, axis=1).tolist()\n",
        "  # Get the class predictions from the model.\n",
        "  preds = limited_model.predict(model_inputs)\n",
        "  preds = [[1 - pred[0], pred[0]] for pred in preds]\n",
        "  return preds\n",
        "\n",
        "examples_for_wit = test_data_with_labels.values.tolist()\n",
        "column_names = test_data_with_labels.columns.tolist()\n",
        "\n",
        "config_builder = (WitConfigBuilder(\n",
        "    examples_for_wit[:num_datapoints],feature_names=column_names)\n",
        "    .set_custom_predict_fn(limited_custom_predict)\n",
        "    .set_target_feature('loan_granted')\n",
        "    .set_label_vocab(['denied', 'accepted'])\n",
        "    .set_compare_custom_predict_fn(custom_predict)\n",
        "    .set_model_name('limited')\n",
        "    .set_compare_model_name('complete'))\n",
        "WitWidget(config_builder, height=800)"
      ],
      "execution_count": null,
      "outputs": [
        {
          "output_type": "display_data",
          "data": {
            "text/html": [
              "<style>.container { width:100% !important; }</style>"
            ],
            "text/plain": [
              "<IPython.core.display.HTML object>"
            ]
          },
          "metadata": {
            "tags": []
          }
        },
        {
          "output_type": "display_data",
          "data": {
            "application/vnd.jupyter.widget-view+json": {
              "model_id": "de56fa62d2be45a3badba1c1920b44c2",
              "version_major": 2,
              "version_minor": 0
            },
            "text/plain": [
              "WitWidget(config={'model_type': 'classification', 'label_vocab': ['denied', 'accepted'], 'feature_names': ['lo…"
            ]
          },
          "metadata": {
            "tags": []
          }
        }
      ]
    },
    {
      "cell_type": "code",
      "metadata": {
        "id": "3YCdPV9xCtKT",
        "outputId": "b6de879e-3080-47a4-e576-16ecdf6c46cb"
      },
      "source": [
        "#@title Show model results in WIT\n",
        "num_datapoints = 1000  #@param {type: \"number\"}\n",
        "\n",
        "# Column indices to strip out from data from WIT before passing it to the model.\n",
        "columns_not_for_model_input = [\n",
        "    test_data_with_labels.columns.get_loc('loan_granted'),\n",
        "]\n",
        "\n",
        "# Return model predictions.\n",
        "def custom_predict(examples_to_infer):\n",
        "  # Delete columns not used by model\n",
        "  model_inputs = np.delete(\n",
        "      np.array(examples_to_infer), columns_not_for_model_input, axis=1).tolist()\n",
        "  # Get the class predictions from the model.\n",
        "  preds = model.predict(model_inputs)\n",
        "  preds = [[1 - pred[0], pred[0]] for pred in preds]\n",
        "  return preds\n",
        "  \n",
        "# Return 'limited' model predictions.\n",
        "def limited_custom_predict(examples_to_infer):\n",
        "  # Delete columns not used by model\n",
        "  model_inputs = np.delete(\n",
        "      np.array(examples_to_infer), columns_not_for_model_input, axis=1).tolist()\n",
        "  # Get the class predictions from the model.\n",
        "  preds = limited_model.predict(model_inputs)\n",
        "  preds = [[1 - pred[0], pred[0]] for pred in preds]\n",
        "  return preds\n",
        "\n",
        "examples_for_wit = test_data_with_labels.values.tolist()\n",
        "column_names = test_data_with_labels.columns.tolist()\n",
        "\n",
        "config_builder = (WitConfigBuilder(\n",
        "    examples_for_wit[:num_datapoints],feature_names=column_names)\n",
        "    .set_custom_predict_fn(bad_custom_predict)\n",
        "    .set_target_feature('loan_granted')\n",
        "    .set_label_vocab(['denied', 'accepted'])\n",
        "    .set_compare_custom_predict_fn(custom_predict)\n",
        "    .set_model_name('limited')\n",
        "    .set_compare_model_name('complete'))\n",
        "WitWidget(config_builder, height=800)"
      ],
      "execution_count": null,
      "outputs": [
        {
          "output_type": "error",
          "ename": "NameError",
          "evalue": "name 'bad_custom_predict' is not defined",
          "traceback": [
            "\u001b[0;31m---------------------------------------------------------------------------\u001b[0m",
            "\u001b[0;31mNameError\u001b[0m                                 Traceback (most recent call last)",
            "\u001b[0;32m<ipython-input-24-6c8de7807d1a>\u001b[0m in \u001b[0;36m<module>\u001b[0;34m\u001b[0m\n\u001b[1;32m      1\u001b[0m config_builder = (WitConfigBuilder(\n\u001b[1;32m      2\u001b[0m     examples_for_wit[:num_datapoints],feature_names=column_names)\n\u001b[0;32m----> 3\u001b[0;31m     \u001b[0;34m.\u001b[0m\u001b[0mset_custom_predict_fn\u001b[0m\u001b[0;34m(\u001b[0m\u001b[0mbad_custom_predict\u001b[0m\u001b[0;34m)\u001b[0m\u001b[0;34m\u001b[0m\u001b[0;34m\u001b[0m\u001b[0m\n\u001b[0m\u001b[1;32m      4\u001b[0m     \u001b[0;34m.\u001b[0m\u001b[0mset_target_feature\u001b[0m\u001b[0;34m(\u001b[0m\u001b[0;34m'loan_granted'\u001b[0m\u001b[0;34m)\u001b[0m\u001b[0;34m\u001b[0m\u001b[0;34m\u001b[0m\u001b[0m\n\u001b[1;32m      5\u001b[0m     \u001b[0;34m.\u001b[0m\u001b[0mset_label_vocab\u001b[0m\u001b[0;34m(\u001b[0m\u001b[0;34m[\u001b[0m\u001b[0;34m'denied'\u001b[0m\u001b[0;34m,\u001b[0m \u001b[0;34m'accepted'\u001b[0m\u001b[0;34m]\u001b[0m\u001b[0;34m)\u001b[0m\u001b[0;34m\u001b[0m\u001b[0;34m\u001b[0m\u001b[0m\n",
            "\u001b[0;31mNameError\u001b[0m: name 'bad_custom_predict' is not defined"
          ]
        }
      ]
    },
    {
      "cell_type": "code",
      "metadata": {
        "id": "cd3DNMDHCtKW"
      },
      "source": [
        ""
      ],
      "execution_count": null,
      "outputs": []
    }
  ]
}